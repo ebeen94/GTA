{
 "cells": [
  {
   "cell_type": "code",
   "execution_count": 114,
   "id": "59089517",
   "metadata": {},
   "outputs": [],
   "source": [
    "import pandas as pd\n",
    "import re\n",
    "import numpy as np"
   ]
  },
  {
   "cell_type": "code",
   "execution_count": 129,
   "id": "f2fd4bc4",
   "metadata": {},
   "outputs": [],
   "source": [
    "#Open clean data without index number\n",
    "gta_original = pd.read_csv('./gta_original.csv')"
   ]
  },
  {
   "cell_type": "code",
   "execution_count": 130,
   "id": "471287c3",
   "metadata": {},
   "outputs": [],
   "source": [
    "gta_original = gta_original.drop(['Unnamed: 0'],axis=1)"
   ]
  },
  {
   "cell_type": "code",
   "execution_count": 131,
   "id": "ab9c7991",
   "metadata": {},
   "outputs": [],
   "source": [
    "gta_original = gta_original.drop_duplicates(subset= ['Address'])"
   ]
  },
  {
   "cell_type": "code",
   "execution_count": 132,
   "id": "f00ecebf",
   "metadata": {},
   "outputs": [],
   "source": [
    "gta_original = gta_original.reset_index()"
   ]
  },
  {
   "cell_type": "code",
   "execution_count": 133,
   "id": "d09abf4d",
   "metadata": {},
   "outputs": [],
   "source": [
    "gta_original = gta_original.drop(['index'],axis=1)"
   ]
  },
  {
   "cell_type": "code",
   "execution_count": 134,
   "id": "f34fa558",
   "metadata": {},
   "outputs": [],
   "source": [
    "gta_original.index += 1"
   ]
  },
  {
   "cell_type": "code",
   "execution_count": 135,
   "id": "d8e64809",
   "metadata": {},
   "outputs": [],
   "source": [
    "gta_original = gta_original.reset_index(level=0)"
   ]
  },
  {
   "cell_type": "code",
   "execution_count": 137,
   "id": "9f5d6d55",
   "metadata": {},
   "outputs": [],
   "source": [
    "gta_original = gta_original.rename(columns = {'index': 'Id'})"
   ]
  },
  {
   "cell_type": "code",
   "execution_count": 138,
   "id": "8dd07363",
   "metadata": {},
   "outputs": [
    {
     "data": {
      "text/html": [
       "<div>\n",
       "<style scoped>\n",
       "    .dataframe tbody tr th:only-of-type {\n",
       "        vertical-align: middle;\n",
       "    }\n",
       "\n",
       "    .dataframe tbody tr th {\n",
       "        vertical-align: top;\n",
       "    }\n",
       "\n",
       "    .dataframe thead th {\n",
       "        text-align: right;\n",
       "    }\n",
       "</style>\n",
       "<table border=\"1\" class=\"dataframe\">\n",
       "  <thead>\n",
       "    <tr style=\"text-align: right;\">\n",
       "      <th></th>\n",
       "      <th>Id</th>\n",
       "      <th>PublicRemarks</th>\n",
       "      <th>Bedrooms</th>\n",
       "      <th>Building_Type</th>\n",
       "      <th>Address</th>\n",
       "      <th>LeaseRent</th>\n",
       "      <th>Property_Type</th>\n",
       "      <th>OwnershipType</th>\n",
       "      <th>ParkingSpaceTotal</th>\n",
       "    </tr>\n",
       "  </thead>\n",
       "  <tbody>\n",
       "    <tr>\n",
       "      <th>0</th>\n",
       "      <td>1</td>\n",
       "      <td>Excellent Location!Ready To Move In With Other...</td>\n",
       "      <td>1</td>\n",
       "      <td>Other</td>\n",
       "      <td>#BSMNT -12 FLERIMAC RD|Toronto, Ontario M1E4A9</td>\n",
       "      <td>$700/Monthly</td>\n",
       "      <td>Single Family</td>\n",
       "      <td>NaN</td>\n",
       "      <td>NaN</td>\n",
       "    </tr>\n",
       "    <tr>\n",
       "      <th>1</th>\n",
       "      <td>2</td>\n",
       "      <td>Roommate Rents Out Master Bedroom Condo Unit. ...</td>\n",
       "      <td>2</td>\n",
       "      <td>Apartment</td>\n",
       "      <td>4101 SHEPPARD AVE E|Toronto, Ontario M1S3H3</td>\n",
       "      <td>$800/Monthly</td>\n",
       "      <td>Single Family</td>\n",
       "      <td>Condominium/Strata</td>\n",
       "      <td>NaN</td>\n",
       "    </tr>\n",
       "    <tr>\n",
       "      <th>2</th>\n",
       "      <td>3</td>\n",
       "      <td>2 Individual Furnished Bdrms With Private Entr...</td>\n",
       "      <td>1</td>\n",
       "      <td>House</td>\n",
       "      <td>107 BRAYMORE BLVD|Toronto, Ontario M1B2N6</td>\n",
       "      <td>$900/Monthly</td>\n",
       "      <td>Single Family</td>\n",
       "      <td>Freehold</td>\n",
       "      <td>2.0</td>\n",
       "    </tr>\n",
       "    <tr>\n",
       "      <th>3</th>\n",
       "      <td>4</td>\n",
       "      <td>A Large Den For A Single Lady, Private Washroo...</td>\n",
       "      <td>1 + 1</td>\n",
       "      <td>Apartment</td>\n",
       "      <td>#906 -150 MAIN ST W|Hamilton, Ontario L8P1H8</td>\n",
       "      <td>$900/Monthly</td>\n",
       "      <td>Single Family</td>\n",
       "      <td>Condominium/Strata</td>\n",
       "      <td>NaN</td>\n",
       "    </tr>\n",
       "    <tr>\n",
       "      <th>4</th>\n",
       "      <td>5</td>\n",
       "      <td>Fully Furnished Room Available For Lease In A ...</td>\n",
       "      <td>1</td>\n",
       "      <td>House</td>\n",
       "      <td>#(ROOM) -1036 MCCUAIG DR|Milton, Ontario L9T6S3</td>\n",
       "      <td>$900/Monthly</td>\n",
       "      <td>Single Family</td>\n",
       "      <td>Freehold</td>\n",
       "      <td>NaN</td>\n",
       "    </tr>\n",
       "    <tr>\n",
       "      <th>...</th>\n",
       "      <td>...</td>\n",
       "      <td>...</td>\n",
       "      <td>...</td>\n",
       "      <td>...</td>\n",
       "      <td>...</td>\n",
       "      <td>...</td>\n",
       "      <td>...</td>\n",
       "      <td>...</td>\n",
       "      <td>...</td>\n",
       "    </tr>\n",
       "    <tr>\n",
       "      <th>491</th>\n",
       "      <td>492</td>\n",
       "      <td>Freshly Renovated 2 Bed Loft Style Unit With E...</td>\n",
       "      <td>2</td>\n",
       "      <td>Duplex</td>\n",
       "      <td>68 HIGHLAND RD|Kitchener, Ontario N2M3B5</td>\n",
       "      <td>$1,800/Monthly</td>\n",
       "      <td>Single Family</td>\n",
       "      <td>NaN</td>\n",
       "      <td>NaN</td>\n",
       "    </tr>\n",
       "    <tr>\n",
       "      <th>492</th>\n",
       "      <td>493</td>\n",
       "      <td>Welcome to this spacious 1 bedroom plus den lo...</td>\n",
       "      <td>0 + 1</td>\n",
       "      <td>House</td>\n",
       "      <td>35 VICMOUNT Drive|Kitchener, Ontario N2M2A2</td>\n",
       "      <td>$1,800/Monthly</td>\n",
       "      <td>Single Family</td>\n",
       "      <td>Freehold</td>\n",
       "      <td>NaN</td>\n",
       "    </tr>\n",
       "    <tr>\n",
       "      <th>493</th>\n",
       "      <td>494</td>\n",
       "      <td>Checks All Boxes. Spacious 2Bdr + 1Bth Walk-Ou...</td>\n",
       "      <td>2</td>\n",
       "      <td>House</td>\n",
       "      <td>#BSMT -63 WHEATFIELD  CRES|Kitchener, Ontario ...</td>\n",
       "      <td>$1,800/Monthly</td>\n",
       "      <td>Single Family</td>\n",
       "      <td>Freehold</td>\n",
       "      <td>5.0</td>\n",
       "    </tr>\n",
       "    <tr>\n",
       "      <th>494</th>\n",
       "      <td>495</td>\n",
       "      <td>Introducing Gorgeous Basement Bungalow In Clar...</td>\n",
       "      <td>2</td>\n",
       "      <td>House</td>\n",
       "      <td>#BSMT -2632  LUNDENE RD|Mississauga, Ontario L...</td>\n",
       "      <td>$1,800/Monthly</td>\n",
       "      <td>Single Family</td>\n",
       "      <td>Freehold</td>\n",
       "      <td>NaN</td>\n",
       "    </tr>\n",
       "    <tr>\n",
       "      <th>495</th>\n",
       "      <td>496</td>\n",
       "      <td>Welcome to 321 Carriage Way Unit B, Waterloo! ...</td>\n",
       "      <td>0 + 1</td>\n",
       "      <td>House</td>\n",
       "      <td>321 CARRIAGE Way N Unit# B|Waterloo, Ontario N...</td>\n",
       "      <td>$1,800/Monthly</td>\n",
       "      <td>Single Family</td>\n",
       "      <td>Freehold</td>\n",
       "      <td>NaN</td>\n",
       "    </tr>\n",
       "  </tbody>\n",
       "</table>\n",
       "<p>496 rows × 9 columns</p>\n",
       "</div>"
      ],
      "text/plain": [
       "      Id                                      PublicRemarks Bedrooms  \\\n",
       "0      1  Excellent Location!Ready To Move In With Other...        1   \n",
       "1      2  Roommate Rents Out Master Bedroom Condo Unit. ...        2   \n",
       "2      3  2 Individual Furnished Bdrms With Private Entr...        1   \n",
       "3      4  A Large Den For A Single Lady, Private Washroo...    1 + 1   \n",
       "4      5  Fully Furnished Room Available For Lease In A ...        1   \n",
       "..   ...                                                ...      ...   \n",
       "491  492  Freshly Renovated 2 Bed Loft Style Unit With E...        2   \n",
       "492  493  Welcome to this spacious 1 bedroom plus den lo...    0 + 1   \n",
       "493  494  Checks All Boxes. Spacious 2Bdr + 1Bth Walk-Ou...        2   \n",
       "494  495  Introducing Gorgeous Basement Bungalow In Clar...        2   \n",
       "495  496  Welcome to 321 Carriage Way Unit B, Waterloo! ...    0 + 1   \n",
       "\n",
       "    Building_Type                                            Address  \\\n",
       "0           Other     #BSMNT -12 FLERIMAC RD|Toronto, Ontario M1E4A9   \n",
       "1       Apartment        4101 SHEPPARD AVE E|Toronto, Ontario M1S3H3   \n",
       "2           House          107 BRAYMORE BLVD|Toronto, Ontario M1B2N6   \n",
       "3       Apartment       #906 -150 MAIN ST W|Hamilton, Ontario L8P1H8   \n",
       "4           House    #(ROOM) -1036 MCCUAIG DR|Milton, Ontario L9T6S3   \n",
       "..            ...                                                ...   \n",
       "491        Duplex           68 HIGHLAND RD|Kitchener, Ontario N2M3B5   \n",
       "492         House        35 VICMOUNT Drive|Kitchener, Ontario N2M2A2   \n",
       "493         House  #BSMT -63 WHEATFIELD  CRES|Kitchener, Ontario ...   \n",
       "494         House  #BSMT -2632  LUNDENE RD|Mississauga, Ontario L...   \n",
       "495         House  321 CARRIAGE Way N Unit# B|Waterloo, Ontario N...   \n",
       "\n",
       "          LeaseRent  Property_Type       OwnershipType  ParkingSpaceTotal  \n",
       "0      $700/Monthly  Single Family                 NaN                NaN  \n",
       "1      $800/Monthly  Single Family  Condominium/Strata                NaN  \n",
       "2      $900/Monthly  Single Family            Freehold                2.0  \n",
       "3      $900/Monthly  Single Family  Condominium/Strata                NaN  \n",
       "4      $900/Monthly  Single Family            Freehold                NaN  \n",
       "..              ...            ...                 ...                ...  \n",
       "491  $1,800/Monthly  Single Family                 NaN                NaN  \n",
       "492  $1,800/Monthly  Single Family            Freehold                NaN  \n",
       "493  $1,800/Monthly  Single Family            Freehold                5.0  \n",
       "494  $1,800/Monthly  Single Family            Freehold                NaN  \n",
       "495  $1,800/Monthly  Single Family            Freehold                NaN  \n",
       "\n",
       "[496 rows x 9 columns]"
      ]
     },
     "execution_count": 138,
     "metadata": {},
     "output_type": "execute_result"
    }
   ],
   "source": [
    "gta_original"
   ]
  },
  {
   "cell_type": "code",
   "execution_count": null,
   "id": "70db0e0f",
   "metadata": {},
   "outputs": [],
   "source": []
  },
  {
   "cell_type": "code",
   "execution_count": null,
   "id": "c03d51b1",
   "metadata": {},
   "outputs": [],
   "source": []
  },
  {
   "cell_type": "markdown",
   "id": "45509a22",
   "metadata": {},
   "source": [
    "# DB Insert Functions"
   ]
  },
  {
   "cell_type": "code",
   "execution_count": 139,
   "id": "a2ef89f3",
   "metadata": {},
   "outputs": [
    {
     "name": "stdout",
     "output_type": "stream",
     "text": [
      "Requirement already satisfied: psycopg2 in /opt/anaconda3/lib/python3.9/site-packages (2.9.3)\r\n"
     ]
    }
   ],
   "source": [
    "!pip install psycopg2"
   ]
  },
  {
   "cell_type": "code",
   "execution_count": 140,
   "id": "f688079e",
   "metadata": {},
   "outputs": [],
   "source": [
    "import psycopg2 as ps\n",
    "\n",
    "def connect_to_db(host_name, dbname, port, username, password):\n",
    "    try:\n",
    "        conn = ps.connect(host = host_name,\n",
    "                         database = dbname, \n",
    "                         user = username, \n",
    "                         password = password,\n",
    "                         port = port)\n",
    "\n",
    "    except ps.OperationalError as e:\n",
    "        raise e\n",
    "    else:\n",
    "        print('Connected!')\n",
    "    return conn\n",
    "\n",
    "\n",
    "def create_table(curr):\n",
    "    create_table_command = (\"\"\"CREATE TABLE IF NOT EXISTS gta_table (\n",
    "        Id serial PRIMARY KEY,\n",
    "        Address VARCHAR(255),\n",
    "        PublicRemarks TEXT,\n",
    "        Bedrooms TEXT,\n",
    "        Building_Type VARCHAR(255),\n",
    "        LeaseRent VARCHAR(255),\n",
    "        Property_Type VARCHAR(255),\n",
    "        OwnershipType VARCHAR(255),\n",
    "        ParkingSpaceTotal VARCHAR(255)\n",
    "    )\"\"\")\n",
    "    \n",
    "    curr.execute(create_table_command) \n",
    "\n",
    "\n",
    "#write insert command\n",
    "def insert_into_table(curr, Address, PublicRemarks, Bedrooms, Building_Type, LeaseRent, Property_Type, OwnershipType, ParkingSpaceTotal):\n",
    "    insert_into_gta_table = (\"\"\"INSERT INTO gta_table (Address, PublicRemarks, Bedrooms, Building_Type, LeaseRent, Property_Type, OwnershipType, ParkingSpaceTotal)\n",
    "                            VALUES(%s,%s,%s,%s,%s,%s,%s,%s);\"\"\")\n",
    "\n",
    "    row_to_insert = (Address, PublicRemarks, Bedrooms, Building_Type, LeaseRent, Property_Type, OwnershipType, ParkingSpaceTotal)\n",
    "    curr.execute(insert_into_gta_table, row_to_insert) #pass on sql cmd, parameter\n",
    "\n",
    "    \n",
    "def append_from_df_to_db(curr, df):\n",
    "    for i,row in df.iterrows():\n",
    "        insert_into_table(curr, row['Address'], row['PublicRemarks'], row['Bedrooms'], row['Building_Type'], row['LeaseRent'], row['Property_Type'], row['OwnershipType'], row['ParkingSpaceTotal'])\n",
    "\n",
    "        \n"
   ]
  },
  {
   "cell_type": "markdown",
   "id": "0f009765",
   "metadata": {},
   "source": [
    "# Execute"
   ]
  },
  {
   "cell_type": "code",
   "execution_count": 176,
   "id": "a676e8eb",
   "metadata": {},
   "outputs": [
    {
     "name": "stdout",
     "output_type": "stream",
     "text": [
      "Connected!\n"
     ]
    }
   ],
   "source": [
    "host_name = 'localhost'\n",
    "dbname = 'projects'\n",
    "port = 5432\n",
    "username = 'postgres'\n",
    "password = 'fhfflvhffl'\n",
    "conn = None\n",
    "\n",
    "conn = connect_to_db(host_name, dbname, port, username, password)"
   ]
  },
  {
   "cell_type": "code",
   "execution_count": 177,
   "id": "2635bb26",
   "metadata": {},
   "outputs": [],
   "source": [
    "curr = conn.cursor()  "
   ]
  },
  {
   "cell_type": "code",
   "execution_count": 178,
   "id": "57551574",
   "metadata": {},
   "outputs": [],
   "source": [
    "curr.execute(\"\"\"DROP TABLE IF EXISTS gta_table;\"\"\")"
   ]
  },
  {
   "cell_type": "code",
   "execution_count": 179,
   "id": "66d3c566",
   "metadata": {},
   "outputs": [],
   "source": [
    "create_table(curr) "
   ]
  },
  {
   "cell_type": "code",
   "execution_count": 180,
   "id": "7a0e5d0f",
   "metadata": {},
   "outputs": [],
   "source": [
    "conn.commit()"
   ]
  },
  {
   "cell_type": "code",
   "execution_count": 181,
   "id": "70f95ab4",
   "metadata": {},
   "outputs": [],
   "source": [
    "#insert new rows into table\n",
    "append_from_df_to_db(curr,gta_original)  "
   ]
  },
  {
   "cell_type": "code",
   "execution_count": 182,
   "id": "855d7b2d",
   "metadata": {},
   "outputs": [],
   "source": [
    "#commit all the sql code to the database\n",
    "conn.commit() "
   ]
  },
  {
   "cell_type": "code",
   "execution_count": null,
   "id": "470e4bef",
   "metadata": {},
   "outputs": [],
   "source": []
  }
 ],
 "metadata": {
  "kernelspec": {
   "display_name": "Python 3 (ipykernel)",
   "language": "python",
   "name": "python3"
  },
  "language_info": {
   "codemirror_mode": {
    "name": "ipython",
    "version": 3
   },
   "file_extension": ".py",
   "mimetype": "text/x-python",
   "name": "python",
   "nbconvert_exporter": "python",
   "pygments_lexer": "ipython3",
   "version": "3.9.12"
  }
 },
 "nbformat": 4,
 "nbformat_minor": 5
}
